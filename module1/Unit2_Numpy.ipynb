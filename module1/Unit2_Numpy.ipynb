{
 "cells": [
  {
   "cell_type": "markdown",
   "id": "6e8adf9a",
   "metadata": {},
   "source": [
    "# NumPy_Numarical Pyuthon Library"
   ]
  },
  {
   "cell_type": "code",
   "execution_count": 1,
   "id": "7ef0a173",
   "metadata": {},
   "outputs": [],
   "source": [
    "#Importing Numpy\n",
    "import numpy as np\n"
   ]
  },
  {
   "cell_type": "code",
   "execution_count": 10,
   "id": "8c7f4f12",
   "metadata": {},
   "outputs": [
    {
     "name": "stdout",
     "output_type": "stream",
     "text": [
      "[1 2 3]\n",
      "[[1 2 3]\n",
      " [4 5 6]]\n"
     ]
    }
   ],
   "source": [
    "#create simple array\n",
    "#single line array\n",
    "arr1=np.array([1,2,3])\n",
    "\n",
    "#n * m Array\n",
    "arr2=np.array([[1,2,3],[4,5,6]]) #n=3,m=2\n",
    "\n",
    "print(arr1)\n",
    "print(arr2)"
   ]
  },
  {
   "cell_type": "code",
   "execution_count": 20,
   "id": "00d1301b",
   "metadata": {
    "scrolled": true
   },
   "outputs": [
    {
     "name": "stdout",
     "output_type": "stream",
     "text": [
      "1\n",
      "6\n",
      "1\n",
      "2\n",
      "(3,)\n",
      "(2, 3)\n",
      "<memory at 0x000001D62634F040>\n",
      "6\n",
      "<class 'numpy.ndarray'>\n"
     ]
    }
   ],
   "source": [
    "#how to access elements\n",
    "print(arr1[0])\n",
    "print(arr2[1][2])\n",
    "\n",
    "#Dimensions\n",
    "print(arr1.ndim) \n",
    "print(arr2.ndim) \n",
    "\n",
    "#Order of the Array\n",
    "print(arr1.shape) \n",
    "print(arr2.shape)\n",
    "\n",
    "#Memory data Location\n",
    "print(arr2.data)\n",
    "\n",
    "#length\n",
    "print(arr2.size)\n",
    "\n",
    "#Type\n",
    "print(type(arr1))"
   ]
  },
  {
   "cell_type": "markdown",
   "id": "1e9cc53b",
   "metadata": {},
   "source": [
    "# LAB1\n",
    "# RANDOM NUMBER GENERATOR"
   ]
  },
  {
   "cell_type": "code",
   "execution_count": 5,
   "id": "02e7eadd",
   "metadata": {},
   "outputs": [
    {
     "name": "stdout",
     "output_type": "stream",
     "text": [
      "[0.78189371 0.22673792 0.9835255  0.95107539 0.34903997]\n",
      "[93 11 25]\n",
      "[[44 91 57]\n",
      " [16 79 73]\n",
      " [46 12 67]]\n"
     ]
    }
   ],
   "source": [
    "#import randome module from numpy\n",
    "from numpy import random \n",
    "x=random.rand(5)\n",
    "print(x)\n",
    "\n",
    "y=random.randint(100,size=3)\n",
    "print(y)\n",
    "\n",
    "z=random.randint(100,size=(3,3))\n",
    "print(z)"
   ]
  },
  {
   "cell_type": "code",
   "execution_count": 6,
   "id": "aa4d8773",
   "metadata": {},
   "outputs": [
    {
     "name": "stdout",
     "output_type": "stream",
     "text": [
      "[1 1]\n",
      "[[0.04131918 0.83348217]\n",
      " [0.42713266 0.50896072]]\n"
     ]
    }
   ],
   "source": [
    "#random integer\n",
    "a=random.randint((2,2))\n",
    "print(a)\n",
    "#Float\n",
    "b=random.random((2,2))\n",
    "print(b)"
   ]
  },
  {
   "cell_type": "markdown",
   "id": "52a86229",
   "metadata": {},
   "source": [
    " z=random.randint(10,size=(3,3))\n",
    "random.seed(10)\n",
    "print(z)"
   ]
  },
  {
   "cell_type": "markdown",
   "id": "cb0ebca7",
   "metadata": {},
   "source": [
    "# Numpy Matrix functions"
   ]
  },
  {
   "cell_type": "code",
   "execution_count": 15,
   "id": "6afb1f6b",
   "metadata": {},
   "outputs": [
    {
     "name": "stdout",
     "output_type": "stream",
     "text": [
      "[[0. 0. 0.]\n",
      " [0. 0. 0.]\n",
      " [0. 0. 0.]]\n",
      "\n",
      "[[1. 1. 1.]\n",
      " [1. 1. 1.]\n",
      " [1. 1. 1.]]\n",
      "\n",
      "[[1. 0. 0.]\n",
      " [0. 1. 0.]\n",
      " [0. 0. 1.]]\n",
      "\n",
      "[[5 5 5]\n",
      " [5 5 5]\n",
      " [5 5 5]]\n",
      "\n"
     ]
    }
   ],
   "source": [
    "#Different types of Matrix\n",
    "\n",
    "#Zero matrix\n",
    "zero = np.zeros((3,3))\n",
    "print(zero)\n",
    "print()\n",
    "\n",
    "#Ones Matrix\n",
    "one = np.ones((3,3))\n",
    "print(one)\n",
    "print()\n",
    "\n",
    "#identity matrix\n",
    "idt = np.eye((3))\n",
    "print(idt)\n",
    "print()\n",
    "\n",
    "#constant\n",
    "const = np.full((3,3),5)\n",
    "print(const)\n",
    "print()\n"
   ]
  },
  {
   "cell_type": "code",
   "execution_count": 33,
   "id": "f2297a35",
   "metadata": {},
   "outputs": [
    {
     "name": "stdout",
     "output_type": "stream",
     "text": [
      "[[7. 0. 0.]\n",
      " [0. 7. 0.]\n",
      " [0. 0. 7.]]\n"
     ]
    }
   ],
   "source": [
    "#Operations with matrixsy\n",
    "print(7*idt)"
   ]
  },
  {
   "cell_type": "markdown",
   "id": "c381eb37",
   "metadata": {},
   "source": [
    "# Array Indexing and Slicing"
   ]
  },
  {
   "cell_type": "code",
   "execution_count": 36,
   "id": "bf7aa593",
   "metadata": {},
   "outputs": [
    {
     "data": {
      "text/plain": [
       "array([[ 1,  2,  3,  4],\n",
       "       [ 5,  6,  7,  8],\n",
       "       [ 9, 10, 11, 12]])"
      ]
     },
     "execution_count": 36,
     "metadata": {},
     "output_type": "execute_result"
    }
   ],
   "source": [
    "arr = np.array([[1,2,3,4],[5,6,7,8],[9,10,11,12]])\n",
    "arr"
   ]
  },
  {
   "cell_type": "code",
   "execution_count": 39,
   "id": "929f48ce",
   "metadata": {},
   "outputs": [
    {
     "name": "stdout",
     "output_type": "stream",
     "text": [
      "1 6 11\n",
      "[[ 1  2  3  4]\n",
      " [ 5  6  7  8]\n",
      " [ 9 10 11  1]]\n",
      "[[ 1  2  3  4]\n",
      " [ 5  6  7  8]\n",
      " [ 9 10 11  1]]\n"
     ]
    }
   ],
   "source": [
    "#access\n",
    "print(arr[0][0],arr[1][1],arr[2][2])\n",
    "\n",
    "#replace\n",
    "\n",
    "print(arr)\n",
    "arr[2][3] = 1\n",
    "print(arr)"
   ]
  },
  {
   "cell_type": "code",
   "execution_count": 49,
   "id": "1c199b8e",
   "metadata": {},
   "outputs": [
    {
     "name": "stdout",
     "output_type": "stream",
     "text": [
      "[[ 1  2  3  4]\n",
      " [ 5  6  7  8]\n",
      " [ 9 10 11  1]]\n",
      "\n",
      "[[ 6  7]\n",
      " [10 11]]\n",
      "\n",
      "[[ 6  7  8]\n",
      " [10 11  1]]\n"
     ]
    }
   ],
   "source": [
    "#Slicing\n",
    "#arr[slicing of rows,slicing of cols]\n",
    "#arr[st:end,st:end]\n",
    "\n",
    "print(arr)\n",
    "print()\n",
    "\n",
    "arr1=arr[1: , 1:3]\n",
    "print(arr1)\n",
    "print()\n",
    "\n",
    "narr = arr[1:3,1:4]\n",
    "\n",
    "print(narr)"
   ]
  },
  {
   "cell_type": "code",
   "execution_count": 50,
   "id": "218c2e50",
   "metadata": {},
   "outputs": [
    {
     "data": {
      "text/plain": [
       "array([[2, 2, 2, 2],\n",
       "       [2, 2, 2, 2],\n",
       "       [2, 2, 2, 2]])"
      ]
     },
     "execution_count": 50,
     "metadata": {},
     "output_type": "execute_result"
    }
   ],
   "source": [
    "arr1 = np.full((3,4),2)\n",
    "arr1"
   ]
  },
  {
   "cell_type": "markdown",
   "id": "d589643b",
   "metadata": {},
   "source": [
    "# Array Broadcasting"
   ]
  },
  {
   "cell_type": "code",
   "execution_count": 70,
   "id": "07da31e9",
   "metadata": {},
   "outputs": [
    {
     "name": "stdout",
     "output_type": "stream",
     "text": [
      "[[ 1  2  3  4]\n",
      " [ 5  6  7  8]\n",
      " [ 9 10 11  1]]\n",
      "\n",
      "[[2 2 2 2]\n",
      " [2 2 2 2]\n",
      " [2 2 2 2]]\n",
      "\n"
     ]
    }
   ],
   "source": [
    "print(arr)\n",
    "print()\n",
    "print(arr1)\n",
    "print()\n"
   ]
  },
  {
   "cell_type": "code",
   "execution_count": 69,
   "id": "304efb76",
   "metadata": {},
   "outputs": [
    {
     "name": "stdout",
     "output_type": "stream",
     "text": [
      "[[ 3  4  5  6]\n",
      " [ 7  8  9 10]\n",
      " [11 12 13  3]] \n",
      "\n",
      "[[ 3  4  5  6]\n",
      " [ 7  8  9 10]\n",
      " [11 12 13  3]]\n"
     ]
    }
   ],
   "source": [
    "#Addition\n",
    "print(arr1+arr,\"\\n\")\n",
    "\n",
    "addition = np.add(arr,arr1)\n",
    "\n",
    "print(addition)"
   ]
  },
  {
   "cell_type": "code",
   "execution_count": 68,
   "id": "1b6787a3",
   "metadata": {},
   "outputs": [
    {
     "name": "stdout",
     "output_type": "stream",
     "text": [
      "[[-1  0  1  2]\n",
      " [ 3  4  5  6]\n",
      " [ 7  8  9 -1]]\n"
     ]
    }
   ],
   "source": [
    "#subtraction\n",
    "sub = np.subtract(arr,arr1)\n",
    "print(sub)"
   ]
  },
  {
   "cell_type": "code",
   "execution_count": 65,
   "id": "9c18f625",
   "metadata": {},
   "outputs": [
    {
     "name": "stdout",
     "output_type": "stream",
     "text": [
      "[[ 2  4  6  8]\n",
      " [10 12 14 16]\n",
      " [18 20 22  2]]\n",
      "[[ 2  4  6  8]\n",
      " [10 12 14 16]\n",
      " [18 20 22  2]]\n"
     ]
    }
   ],
   "source": [
    "#multiplication\n",
    "print(arr*arr1)\n",
    "print(np.multiply(arr,arr1))"
   ]
  },
  {
   "cell_type": "code",
   "execution_count": 66,
   "id": "86ac9016",
   "metadata": {},
   "outputs": [
    {
     "name": "stdout",
     "output_type": "stream",
     "text": [
      "[[1.41421356 1.41421356 1.41421356 1.41421356]\n",
      " [1.41421356 1.41421356 1.41421356 1.41421356]\n",
      " [1.41421356 1.41421356 1.41421356 1.41421356]]\n"
     ]
    }
   ],
   "source": [
    "#Square root\n",
    "sq = np.sqrt(arr1)\n",
    "print(sq)"
   ]
  },
  {
   "cell_type": "code",
   "execution_count": 74,
   "id": "699a8de7",
   "metadata": {},
   "outputs": [
    {
     "data": {
      "text/plain": [
       "array([[2, 2, 2, 2],\n",
       "       [2, 2, 2, 2],\n",
       "       [2, 2, 2, 2]])"
      ]
     },
     "execution_count": 74,
     "metadata": {},
     "output_type": "execute_result"
    }
   ],
   "source": [
    "arr1"
   ]
  },
  {
   "cell_type": "code",
   "execution_count": 71,
   "id": "4419c63f",
   "metadata": {},
   "outputs": [
    {
     "data": {
      "text/plain": [
       "24"
      ]
     },
     "execution_count": 71,
     "metadata": {},
     "output_type": "execute_result"
    }
   ],
   "source": [
    "#sum\n",
    "np.sum(arr1)"
   ]
  },
  {
   "cell_type": "code",
   "execution_count": 72,
   "id": "dc01b111",
   "metadata": {},
   "outputs": [
    {
     "data": {
      "text/plain": [
       "array([6, 6, 6, 6])"
      ]
     },
     "execution_count": 72,
     "metadata": {},
     "output_type": "execute_result"
    }
   ],
   "source": [
    "np.sum(arr1,axis=0)"
   ]
  },
  {
   "cell_type": "code",
   "execution_count": 73,
   "id": "e59a8b1b",
   "metadata": {},
   "outputs": [
    {
     "data": {
      "text/plain": [
       "array([8, 8, 8])"
      ]
     },
     "execution_count": 73,
     "metadata": {},
     "output_type": "execute_result"
    }
   ],
   "source": [
    "np.sum(arr1,axis=1)"
   ]
  },
  {
   "cell_type": "code",
   "execution_count": 75,
   "id": "d33e1a06",
   "metadata": {},
   "outputs": [
    {
     "data": {
      "text/plain": [
       "8"
      ]
     },
     "execution_count": 75,
     "metadata": {},
     "output_type": "execute_result"
    }
   ],
   "source": [
    "np.sum(arr1[0])"
   ]
  },
  {
   "cell_type": "markdown",
   "id": "6ed9371e",
   "metadata": {},
   "source": [
    "# Calculate BMI of Players"
   ]
  },
  {
   "cell_type": "code",
   "execution_count": 85,
   "id": "c7746ef9",
   "metadata": {},
   "outputs": [
    {
     "name": "stdout",
     "output_type": "stream",
     "text": [
      "[67 62 73 68 69 61 71 70 67 70 63]\n",
      "[1.6415 1.519  1.7885 1.666  1.6905 1.4945 1.7395 1.715  1.6415 1.715\n",
      " 1.5435]\n"
     ]
    }
   ],
   "source": [
    "#Heights of Player \n",
    "\n",
    "height_in = [67,62,73,68,69,61,71,70,67,70,63]\n",
    "\n",
    "ht_np = np.array(height_in)\n",
    "print(ht_np)\n",
    "\n",
    "#Convert inch to meter\n",
    "hm = ht_np*0.0245\n",
    "print(hm)"
   ]
  },
  {
   "cell_type": "code",
   "execution_count": 81,
   "id": "35d45750",
   "metadata": {},
   "outputs": [
    {
     "name": "stdout",
     "output_type": "stream",
     "text": [
      "[100 120 111 121 106 103 113 101 115 107 109]\n",
      "[45.   54.   49.95 54.45 47.7  46.35 50.85 45.45 51.75 48.15 49.05]\n"
     ]
    }
   ],
   "source": [
    "#Weights of Player\n",
    "\n",
    "w = [100,120,111,121,106,103,113,101,115,107,109]\n",
    "wa=np.array(w)\n",
    "print(wa)\n",
    "\n",
    "#Convert into kg\n",
    "wkg = wa*0.45\n",
    "print(wkg)\n"
   ]
  },
  {
   "cell_type": "code",
   "execution_count": 86,
   "id": "b4d3862d",
   "metadata": {},
   "outputs": [
    {
     "name": "stdout",
     "output_type": "stream",
     "text": [
      "[16.70054868 23.40335994 15.61556145 19.61769101 16.69121798 20.75190161\n",
      " 16.80513831 15.45274503 19.20563098 16.37072988 20.58854918]\n"
     ]
    }
   ],
   "source": [
    "#Calculate BMI\n",
    "\n",
    "bmi = wkg/hm**2\n",
    "print(bmi)"
   ]
  },
  {
   "cell_type": "code",
   "execution_count": 88,
   "id": "09366db9",
   "metadata": {},
   "outputs": [
    {
     "data": {
      "text/plain": [
       "array([23.40335994, 20.75190161, 20.58854918])"
      ]
     },
     "execution_count": 88,
     "metadata": {},
     "output_type": "execute_result"
    }
   ],
   "source": [
    "bmi[bmi>20]"
   ]
  },
  {
   "cell_type": "code",
   "execution_count": 90,
   "id": "3a398ea9",
   "metadata": {},
   "outputs": [
    {
     "ename": "TypeError",
     "evalue": "'builtin_function_or_method' object is not subscriptable",
     "output_type": "error",
     "traceback": [
      "\u001b[1;31m---------------------------------------------------------------------------\u001b[0m",
      "\u001b[1;31mTypeError\u001b[0m                                 Traceback (most recent call last)",
      "Input \u001b[1;32mIn [90]\u001b[0m, in \u001b[0;36m<cell line: 1>\u001b[1;34m()\u001b[0m\n\u001b[1;32m----> 1\u001b[0m players \u001b[38;5;241m=\u001b[39m \u001b[43mnp\u001b[49m\u001b[38;5;241;43m.\u001b[39;49m\u001b[43marray\u001b[49m\u001b[43m[\u001b[49m\u001b[43m(\u001b[49m\u001b[43mwkg\u001b[49m\u001b[43m,\u001b[49m\u001b[43mhm\u001b[49m\u001b[43m)\u001b[49m\u001b[43m]\u001b[49m\n",
      "\u001b[1;31mTypeError\u001b[0m: 'builtin_function_or_method' object is not subscriptable"
     ]
    }
   ],
   "source": [
    "players = np.array[(wkg,hm)]"
   ]
  },
  {
   "cell_type": "code",
   "execution_count": 92,
   "id": "d1c85b8e",
   "metadata": {},
   "outputs": [
    {
     "name": "stdout",
     "output_type": "stream",
     "text": [
      "[[2 2 2]\n",
      " [2 2 2]\n",
      " [2 2 2]\n",
      " [2 2 2]]\n"
     ]
    }
   ],
   "source": [
    "arr1T= arr1.T\n",
    "print(arr1T)"
   ]
  },
  {
   "cell_type": "markdown",
   "id": "64565a75",
   "metadata": {},
   "source": [
    "# Statastical Operations"
   ]
  },
  {
   "cell_type": "code",
   "execution_count": null,
   "id": "827b022c",
   "metadata": {},
   "outputs": [],
   "source": [
    "#max,min,avg,var,std,etc..."
   ]
  },
  {
   "cell_type": "markdown",
   "id": "8633cdf4",
   "metadata": {},
   "source": [
    "# Boolean Operations"
   ]
  },
  {
   "cell_type": "code",
   "execution_count": 5,
   "id": "3e970421",
   "metadata": {},
   "outputs": [
    {
     "data": {
      "text/plain": [
       "array([False,  True,  True,  True, False])"
      ]
     },
     "execution_count": 5,
     "metadata": {},
     "output_type": "execute_result"
    }
   ],
   "source": [
    "bools = [False,True,True,True,False]\n",
    "bools\n",
    "ba = np.array(bools)\n",
    "ba"
   ]
  },
  {
   "cell_type": "code",
   "execution_count": 6,
   "id": "95bc27ff",
   "metadata": {},
   "outputs": [
    {
     "data": {
      "text/plain": [
       "3"
      ]
     },
     "execution_count": 6,
     "metadata": {},
     "output_type": "execute_result"
    }
   ],
   "source": [
    "ba.sum()"
   ]
  },
  {
   "cell_type": "code",
   "execution_count": 7,
   "id": "55518540",
   "metadata": {},
   "outputs": [
    {
     "data": {
      "text/plain": [
       "True"
      ]
     },
     "execution_count": 7,
     "metadata": {},
     "output_type": "execute_result"
    }
   ],
   "source": [
    "ba.any()"
   ]
  },
  {
   "cell_type": "code",
   "execution_count": 8,
   "id": "3d4e86f4",
   "metadata": {},
   "outputs": [
    {
     "data": {
      "text/plain": [
       "False"
      ]
     },
     "execution_count": 8,
     "metadata": {},
     "output_type": "execute_result"
    }
   ],
   "source": [
    "ba.all()"
   ]
  },
  {
   "cell_type": "code",
   "execution_count": 10,
   "id": "aa97c191",
   "metadata": {},
   "outputs": [
    {
     "data": {
      "text/plain": [
       "array(['a', 'b', 'c', 'd', 'a', 'b'], dtype='<U1')"
      ]
     },
     "execution_count": 10,
     "metadata": {},
     "output_type": "execute_result"
    }
   ],
   "source": [
    "n = np.array(['a','b','c','d','a','b'])\n",
    "n"
   ]
  },
  {
   "cell_type": "code",
   "execution_count": 11,
   "id": "bc77f0d2",
   "metadata": {},
   "outputs": [
    {
     "data": {
      "text/plain": [
       "array(['a', 'b', 'c', 'd'], dtype='<U1')"
      ]
     },
     "execution_count": 11,
     "metadata": {},
     "output_type": "execute_result"
    }
   ],
   "source": [
    "np.unique(n)"
   ]
  },
  {
   "cell_type": "code",
   "execution_count": null,
   "id": "be5eae27",
   "metadata": {},
   "outputs": [],
   "source": []
  }
 ],
 "metadata": {
  "kernelspec": {
   "display_name": "Python 3 (ipykernel)",
   "language": "python",
   "name": "python3"
  },
  "language_info": {
   "codemirror_mode": {
    "name": "ipython",
    "version": 3
   },
   "file_extension": ".py",
   "mimetype": "text/x-python",
   "name": "python",
   "nbconvert_exporter": "python",
   "pygments_lexer": "ipython3",
   "version": "3.9.12"
  }
 },
 "nbformat": 4,
 "nbformat_minor": 5
}
