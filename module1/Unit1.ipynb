{
 "cells": [
  {
   "cell_type": "code",
   "execution_count": 1,
   "id": "61bb7323",
   "metadata": {},
   "outputs": [
    {
     "name": "stdout",
     "output_type": "stream",
     "text": [
      "hello\n"
     ]
    }
   ],
   "source": [
    "#print something\n",
    "print(\"hello\")"
   ]
  },
  {
   "cell_type": "markdown",
   "id": "f1e0566c",
   "metadata": {},
   "source": [
    "# Variables"
   ]
  },
  {
   "cell_type": "code",
   "execution_count": null,
   "id": "bc405fbe",
   "metadata": {},
   "outputs": [],
   "source": [
    "# Define variables and its types\n",
    "\n",
    "var1 = 5\n",
    "var2=3.5\n",
    "var3=\"mihir\"\n",
    "var4=True\n",
    "var5=1.5j\n",
    "#tye function\n",
    "print(type(var1))\n",
    "print(var1)\n",
    "print(type(var2))\n",
    "print(var2)\n",
    "print(type(var3))\n",
    "print(var3)\n",
    "print(type(var4))\n",
    "print(var4)\n",
    "print(type(var5))\n",
    "print(var5)\n",
    "#separation keyword sep\n",
    "print(var1,var2,var3,var4,var5,sep=\" : \")"
   ]
  },
  {
   "cell_type": "code",
   "execution_count": null,
   "id": "02180991",
   "metadata": {},
   "outputs": [],
   "source": [
    "#sizeof function\n",
    "print(var1.__sizeof__())\n",
    "print(var2.__sizeof__())\n",
    "print(var3.__sizeof__())\n",
    "print(var4.__sizeof__())\n",
    "print(var5.__sizeof__())"
   ]
  },
  {
   "cell_type": "code",
   "execution_count": null,
   "id": "13adf86b",
   "metadata": {},
   "outputs": [],
   "source": [
    "#Multiple Assignment\n",
    "a,b,c,d = 1,2.5,\"mrp\",11\n",
    "print(a,b,c,d)\n",
    "\n",
    "#multivar single value\n",
    "x=y=z=50\n",
    "print(x,y,z)\n",
    "\n",
    "#last Assign value consider only\n",
    "a,b = 1000,2000\n",
    "print(a,b,c,d)\n"
   ]
  },
  {
   "cell_type": "code",
   "execution_count": null,
   "id": "157a5b7e",
   "metadata": {},
   "outputs": [],
   "source": [
    "#variable replace\n",
    "x=y=z=1\n",
    "w=x=7\n",
    "z=y=10\n",
    "x=z-x\n",
    "print(w,x,y,z)\n",
    "x"
   ]
  },
  {
   "cell_type": "code",
   "execution_count": null,
   "id": "d60794a9",
   "metadata": {},
   "outputs": [],
   "source": [
    "#delet variable\n",
    "del z"
   ]
  },
  {
   "cell_type": "code",
   "execution_count": null,
   "id": "6f16960f",
   "metadata": {},
   "outputs": [],
   "source": [
    "z"
   ]
  },
  {
   "cell_type": "markdown",
   "id": "901c6ee3",
   "metadata": {},
   "source": [
    "# Strings"
   ]
  },
  {
   "cell_type": "code",
   "execution_count": null,
   "id": "42dba359",
   "metadata": {
    "scrolled": true
   },
   "outputs": [],
   "source": [
    "#strings concatination and repeatation\n",
    "str1=\"University\"\n",
    "str2=\"MSU\"\n",
    "print(type(str1),type(str2))\n",
    "print(str1,str2)\n",
    "print(str1+\" name is \"+str2)\n",
    "print(str1*3,sep=\",\")"
   ]
  },
  {
   "cell_type": "code",
   "execution_count": null,
   "id": "38b9a073",
   "metadata": {},
   "outputs": [],
   "source": [
    "#Length of string\n",
    "print(len(str1))\n",
    "print(len(str2))"
   ]
  },
  {
   "cell_type": "code",
   "execution_count": null,
   "id": "9bb7dc85",
   "metadata": {},
   "outputs": [],
   "source": [
    "#indexing and slicing\n",
    "# U n i v e r s i t y\n",
    "# 0 1 2 3 4 5 6 7 8 9\n",
    "\n",
    "#negqative indexing\n",
    "print(str1[-10])\n",
    "#positive indexing\n",
    "print(str1[0])\n",
    "print(str1[5])\n",
    "#slicing of string [start:end:step]\n",
    "print(str1[5:10])\n",
    "print(str1[:10])\n",
    "print(str1[0:10:2])\n"
   ]
  },
  {
   "cell_type": "code",
   "execution_count": null,
   "id": "938a8842",
   "metadata": {},
   "outputs": [],
   "source": [
    "#string formatting\n",
    "string = \"{} {} {}.format('python','programming','language')\"\n",
    "print(string)\n",
    "string2 = \" {2} {1} {0}.format('python','programming','language')\"\n",
    "print(string2)"
   ]
  },
  {
   "cell_type": "markdown",
   "id": "f85121f5",
   "metadata": {},
   "source": [
    "# PYTHON LIST"
   ]
  },
  {
   "cell_type": "code",
   "execution_count": 8,
   "id": "ce5d23ad",
   "metadata": {},
   "outputs": [
    {
     "name": "stdout",
     "output_type": "stream",
     "text": [
      "[1, 2.5, 'string', True, 1, 2, 3, 4, 5]\n"
     ]
    }
   ],
   "source": [
    "list1=[1,2.5,'string',True]\n",
    "list2=[1,2,3,4,5]\n",
    "list3=['a','b','c','d']\n",
    "print(list1)\n",
    "print(list1+list2)\n"
   ]
  },
  {
   "cell_type": "code",
   "execution_count": 14,
   "id": "c6e578b8",
   "metadata": {},
   "outputs": [
    {
     "data": {
      "text/plain": [
       "4"
      ]
     },
     "execution_count": 14,
     "metadata": {},
     "output_type": "execute_result"
    }
   ],
   "source": [
    "#functions of list\n",
    "list1.__sizeof__()\n",
    "len(list3)"
   ]
  },
  {
   "cell_type": "code",
   "execution_count": 13,
   "id": "8811971e",
   "metadata": {},
   "outputs": [
    {
     "data": {
      "text/plain": [
       "[1, 2, 3, 4, 5, 1, 2, 3, 4, 5]"
      ]
     },
     "execution_count": 13,
     "metadata": {},
     "output_type": "execute_result"
    }
   ],
   "source": [
    "list2*2"
   ]
  },
  {
   "cell_type": "code",
   "execution_count": 15,
   "id": "6a84db5e",
   "metadata": {},
   "outputs": [
    {
     "name": "stdout",
     "output_type": "stream",
     "text": [
      "2.5\n",
      "[2, 3]\n",
      "list[-1]\n"
     ]
    }
   ],
   "source": [
    "#indexing\n",
    "print(list1[1])\n",
    "print(list2[1:3])\n",
    "print(list[-1])"
   ]
  },
  {
   "cell_type": "code",
   "execution_count": 18,
   "id": "a6e6c37b",
   "metadata": {},
   "outputs": [
    {
     "data": {
      "text/plain": [
       "[1.2, 5, 'hello']"
      ]
     },
     "execution_count": 18,
     "metadata": {},
     "output_type": "execute_result"
    }
   ],
   "source": [
    "listx=['python',1.2,5,'hello']\n",
    "listx[0]='mihir'\n",
    "listx\n",
    "del listx[0]\n",
    "listx\n"
   ]
  },
  {
   "cell_type": "markdown",
   "id": "5703e4f0",
   "metadata": {},
   "source": [
    "# Tupels"
   ]
  },
  {
   "cell_type": "code",
   "execution_count": 22,
   "id": "93a96d51",
   "metadata": {
    "scrolled": true
   },
   "outputs": [
    {
     "name": "stdout",
     "output_type": "stream",
     "text": [
      "(2, 3.5, 'hello', 100)\n",
      "(2, 3.5, 'hello', 100, 1, 2, 3, 4, 5)\n",
      "hello\n"
     ]
    }
   ],
   "source": [
    "#declaration of tuple\n",
    "tup1=(2,3.5,'hello', 100)\n",
    "tup2=(1,2,3,4,5)\n",
    "print(tup1)\n",
    "print(tup1+tup2)\n",
    "print(tup1[2])"
   ]
  },
  {
   "cell_type": "code",
   "execution_count": 24,
   "id": "aab511e5",
   "metadata": {},
   "outputs": [
    {
     "name": "stdout",
     "output_type": "stream",
     "text": [
      "4\n",
      "<class 'tuple'>\n",
      "9\n"
     ]
    }
   ],
   "source": [
    "#functions\n",
    "print(len(tup1))\n",
    "print(type(tup1))\n",
    "print(len(tup1+tup2))\n"
   ]
  },
  {
   "cell_type": "markdown",
   "id": "67392a9b",
   "metadata": {},
   "source": [
    "# Dictionary "
   ]
  },
  {
   "cell_type": "code",
   "execution_count": 30,
   "id": "a19939e8",
   "metadata": {},
   "outputs": [
    {
     "name": "stdout",
     "output_type": "stream",
     "text": [
      "{'fruit': 'mango', 'animal': 'tiger', 'city': 'baroda'}\n",
      "{1: 'banana', 2: 'lion', 3: 'surat'}\n",
      "{1: 'banana', 'Animal': 'lion', 3: 'surat', 'number': 5}\n"
     ]
    }
   ],
   "source": [
    "#Declaration\n",
    "dict1= {'fruit':'mango',\"animal\":\"tiger\",\"city\":\"baroda\"}\n",
    "print(dict1)\n",
    "dict2={1:\"banana\",2:'lion',3:\"surat\"}\n",
    "print(dict2)\n",
    "dict3={1:\"banana\",\"Animal\":'lion',3:\"surat\",\"number\":5}\n",
    "print(dict3)\n"
   ]
  },
  {
   "cell_type": "code",
   "execution_count": 33,
   "id": "419cfd2d",
   "metadata": {},
   "outputs": [
    {
     "name": "stdout",
     "output_type": "stream",
     "text": [
      "3\n",
      "<class 'dict'>\n",
      "dict_keys(['fruit', 'animal', 'city'])\n",
      "dict_values(['mango', 'tiger', 'baroda'])\n"
     ]
    }
   ],
   "source": [
    "#functions\n",
    "print(len(dict1))\n",
    "print(type(dict1))\n",
    "print(dict1.keys())\n",
    "print(dict1.values())\n"
   ]
  },
  {
   "cell_type": "code",
   "execution_count": 40,
   "id": "1e145aa8",
   "metadata": {},
   "outputs": [
    {
     "name": "stdout",
     "output_type": "stream",
     "text": [
      "{'fruit': 'mango', 'animal': 'dog', 'city': 'baroda', 'new': 'Add', 'Aninal': 'dog', 'Animal': 'dog'}\n",
      "{'fruit': 'mango', 'animal': 'dog', 'city': 'baroda', 'new': 'Add', 'Aninal': 'dog', 'Animal': 'dog'}\n"
     ]
    }
   ],
   "source": [
    "#Add element in dict\n",
    "dict1[\"new\"]=\"Add\"\n",
    "print(dict1)\n",
    "dict1[\"animal\"]=\"dog\"\n",
    "print(dict1)"
   ]
  },
  {
   "cell_type": "markdown",
   "id": "99c4e10c",
   "metadata": {},
   "source": [
    "# loops"
   ]
  },
  {
   "cell_type": "code",
   "execution_count": 1,
   "id": "c70f6b48",
   "metadata": {},
   "outputs": [
    {
     "name": "stdout",
     "output_type": "stream",
     "text": [
      "0\n",
      "1\n",
      "2\n",
      "3\n",
      "4\n"
     ]
    }
   ],
   "source": [
    "#while loop\n",
    "i = 0\n",
    "while (i<5):\n",
    "    print(i)\n",
    "    i=i+1"
   ]
  },
  {
   "cell_type": "code",
   "execution_count": 3,
   "id": "f51cacb0",
   "metadata": {},
   "outputs": [
    {
     "name": "stdout",
     "output_type": "stream",
     "text": [
      "0\n",
      "1\n",
      "2\n",
      "3\n",
      "4\n"
     ]
    }
   ],
   "source": [
    "#for loop\n",
    "n =5\n",
    "for i in range(0,n):\n",
    "    print(i)"
   ]
  },
  {
   "cell_type": "code",
   "execution_count": 4,
   "id": "a816783f",
   "metadata": {},
   "outputs": [
    {
     "name": "stdout",
     "output_type": "stream",
     "text": [
      "hello\n",
      "1\n",
      "5\n",
      "number\n",
      "0\n"
     ]
    }
   ],
   "source": [
    "lst = [\"hello\",1,5,\"number\",0]\n",
    "for index in range(len(lst)):\n",
    "    print(lst[index])"
   ]
  },
  {
   "cell_type": "markdown",
   "id": "4188602d",
   "metadata": {},
   "source": [
    "#  Condition Statements\n"
   ]
  },
  {
   "cell_type": "code",
   "execution_count": 5,
   "id": "ffd05db2",
   "metadata": {},
   "outputs": [
    {
     "name": "stdout",
     "output_type": "stream",
     "text": [
      "not less\n"
     ]
    }
   ],
   "source": [
    "# If Else statement\n",
    "\n",
    "var = 5\n",
    "if var < 2 :\n",
    "    print (var)\n",
    "else :\n",
    "    print(\"not less\")"
   ]
  },
  {
   "cell_type": "markdown",
   "id": "69577719",
   "metadata": {},
   "source": [
    "# define function"
   ]
  },
  {
   "cell_type": "code",
   "execution_count": null,
   "id": "5db7deeb",
   "metadata": {},
   "outputs": [],
   "source": [
    "def add():\n",
    "    x=int(input())\n",
    "    y=int(input())\n",
    "    print(x+y)\n",
    "    \n",
    "add()"
   ]
  },
  {
   "cell_type": "markdown",
   "id": "7bf9c88f",
   "metadata": {},
   "source": [
    "# Simple Calculator programm\n"
   ]
  },
  {
   "cell_type": "code",
   "execution_count": null,
   "id": "4397752a",
   "metadata": {},
   "outputs": [],
   "source": [
    "#Functions\n",
    "\n",
    "def add(x,y): #Addition\n",
    "    return x+y\n",
    "\n",
    "def sub(x,y): #Subtraction\n",
    "    return x-y\n",
    "\n",
    "def mul(x,y): #Multiplication\n",
    "    return x*y\n",
    "\n",
    "def div(x,y): #Division\n",
    "    return x/y\n",
    "\n",
    "#Instruction\n",
    "print(\"Select Operation\")\n",
    "print(\" 1 - Addition\\n 2 - Subtraction\\n 3 - Multiplication\\n 4 - Division\")\n",
    "\n",
    "#input from user\n",
    "f = int(input(\"Enter Your Selected Operation\"))\n",
    "#Condition\n",
    "while f=!5:\n",
    "    if f in (1,2,3,4):\n",
    "        num1=int(input(\"Enter Number 1 : \"))\n",
    "        num2=int(input(\"Enter Number 2 : \"))\n",
    "        if f==1 :\n",
    "            print(\"Addition : \", add(num1,num2))\n",
    "        elif f==2:\n",
    "            print(\"Subtraction: \" ,sub(num1,num2))\n",
    "        elif f==3:\n",
    "            print(\"Multiplication : \" ,mul(num1,num2))\n",
    "        elif f==4:\n",
    "            print(\"Division : \" ,div(num1,num2))\n",
    "    elif f==5:\n",
    "        break\n",
    "\n",
    "    else:\n",
    "        print(\"Invalid Input\")\n"
   ]
  },
  {
   "cell_type": "code",
   "execution_count": null,
   "id": "de04168f",
   "metadata": {},
   "outputs": [],
   "source": []
  },
  {
   "cell_type": "code",
   "execution_count": null,
   "id": "0f45a290",
   "metadata": {},
   "outputs": [],
   "source": []
  }
 ],
 "metadata": {
  "kernelspec": {
   "display_name": "Python 3 (ipykernel)",
   "language": "python",
   "name": "python3"
  },
  "language_info": {
   "codemirror_mode": {
    "name": "ipython",
    "version": 3
   },
   "file_extension": ".py",
   "mimetype": "text/x-python",
   "name": "python",
   "nbconvert_exporter": "python",
   "pygments_lexer": "ipython3",
   "version": "3.9.12"
  }
 },
 "nbformat": 4,
 "nbformat_minor": 5
}
