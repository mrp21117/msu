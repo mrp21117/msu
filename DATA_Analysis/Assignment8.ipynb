{
  "nbformat": 4,
  "nbformat_minor": 0,
  "metadata": {
    "colab": {
      "provenance": []
    },
    "kernelspec": {
      "name": "python3",
      "display_name": "Python 3"
    },
    "language_info": {
      "name": "python"
    }
  },
  "cells": [
    {
      "cell_type": "markdown",
      "metadata": {
        "id": "CpDUTJgFVFtK"
      },
      "source": [
        "**Name:  Parkar Mihir Rajesh**\n",
        "\n",
        "**PRN :** 2020033800102674\n",
        "\n",
        "**Seat No :** 106016\n",
        "\n",
        "**Email :** mihirparkar2002@gmail.com\n",
        "\n",
        "**SS BE – I (Electronics)**\n",
        "\n",
        "**Subject :** Programming and Simulation\n",
        "\n",
        "# **Assignment 8:**\n",
        "\n",
        "\n",
        "\n",
        "\n",
        "---"
      ]
    },
    {
      "cell_type": "markdown",
      "metadata": {
        "id": "WRvopAw4Pk_M"
      },
      "source": [
        "**1. Find mean, median and mode of inputted data using inbuilt\n",
        "commands/functions.**"
      ]
    },
    {
      "cell_type": "code",
      "metadata": {
        "colab": {
          "base_uri": "https://localhost:8080/"
        },
        "id": "qt-8isS0PuoC",
        "outputId": "bfd4ac04-ecc7-4ca0-e0f5-a771bec867a0"
      },
      "source": [
        "import statistics as st\n",
        "\n",
        "X = [2,6,4,8,10,2,18,6,22,20,21,2]\n",
        "Mean = st.mean(X)\n",
        "Median = st.median(X)\n",
        "Mode = st.mode(X)\n",
        "print(\"Here the given data is : \",X )\n",
        "print(\"The mean of the given data is : \",Mean)\n",
        "print(\"The median of the given data is : \",Median)\n",
        "print(\"The mode of the given data is : \",Mode)\n"
      ],
      "execution_count": null,
      "outputs": [
        {
          "output_type": "stream",
          "text": [
            "Here the given data is :  [2, 6, 4, 8, 10, 2, 18, 6, 22, 20, 21, 2]\n",
            "The mean of the given data is :  10.083333333333334\n",
            "The median of the given data is :  7.0\n",
            "The mode of the given data is :  2\n"
          ],
          "name": "stdout"
        }
      ]
    },
    {
      "cell_type": "markdown",
      "metadata": {
        "id": "LI5CqakaQTVJ"
      },
      "source": [
        "\n",
        "\n",
        "\n",
        "\n",
        "---\n",
        "\n",
        "\n",
        "\n",
        "\n",
        "\n",
        "**2. Write a Python code to find the average of inputted numbers.**\n"
      ]
    },
    {
      "cell_type": "code",
      "metadata": {
        "colab": {
          "base_uri": "https://localhost:8080/"
        },
        "id": "jMkgHj_qQXpC",
        "outputId": "f1b746c9-663d-46e0-94ac-29fbd970ef03"
      },
      "source": [
        "X =[20,80,40,20,20,60,30,50,80,40]\n",
        "n =len(X)\n",
        "sum = 0\n",
        "for i in X:\n",
        " sum = sum + i\n",
        " Mean = sum / n\n",
        "print(\"Here the given data is : \",X )\n",
        "print(\"The sum of data is:\",sum)\n",
        "print(\"The mean of the given data is:\",Mean)"
      ],
      "execution_count": null,
      "outputs": [
        {
          "output_type": "stream",
          "text": [
            "Here the given data is :  [20, 80, 40, 20, 20, 60, 30, 50, 80, 40]\n",
            "The sum of data is: 440\n",
            "The mean of the given data is: 44.0\n"
          ],
          "name": "stdout"
        }
      ]
    },
    {
      "cell_type": "markdown",
      "metadata": {
        "id": "gegGkKbuQYFS"
      },
      "source": [
        "\n",
        "\n",
        "\n",
        "\n",
        "---\n",
        "\n",
        "\n",
        "\n",
        "\n",
        "\n",
        "**3. Write a Python code to find the Arithmetic mean of inputted\n",
        "data.(Discrete series)**"
      ]
    },
    {
      "cell_type": "code",
      "metadata": {
        "colab": {
          "base_uri": "https://localhost:8080/"
        },
        "id": "yiz8yoNyQeui",
        "outputId": "daf81865-4ca1-4ad4-ee54-48bf9760bba5"
      },
      "source": [
        "import numpy as np\n",
        "x = np.array([5,4,3])\n",
        "f = np.array([3,2,1])\n",
        "sum = np.sum(f)\n",
        "xf = x.dot(f)\n",
        "mean = xf / sum\n",
        "print(\"the mean of the given discreate data ia = \",mean)\n"
      ],
      "execution_count": null,
      "outputs": [
        {
          "output_type": "stream",
          "text": [
            "the mean of the given discreate data ia =  4.333333333333333\n"
          ],
          "name": "stdout"
        }
      ]
    },
    {
      "cell_type": "markdown",
      "metadata": {
        "id": "OBXngPyKQfKS"
      },
      "source": [
        "\n",
        "\n",
        "\n",
        "\n",
        "---\n",
        "\n",
        "\n",
        "\n",
        "\n",
        "\n",
        "**4. Write a Python code to find the Arithmetic mean of inputted\n",
        "data.(Continuous series)**"
      ]
    },
    {
      "cell_type": "code",
      "metadata": {
        "colab": {
          "base_uri": "https://localhost:8080/"
        },
        "id": "_ARirpV5Qi0q",
        "outputId": "c3c6184e-1d2f-433c-88e5-e34d8bebf6ed"
      },
      "source": [
        "import numpy as np\n",
        "LL = np.array([0,10,20,30,40,50,60,70,80,90])\n",
        "UL = np.array([10,20,30,40,50,60,70,80,90,100])\n",
        "f = np.array([2,5,1,3,3,2,5,1,3,2])\n",
        "ML = (LL + UL)/2\n",
        "sum = np.sum(f)\n",
        "MLf = ML.dot(f)\n",
        "Mean = MLf/sum\n",
        "print(\"The mean of the given continous data is :\",Mean)"
      ],
      "execution_count": null,
      "outputs": [
        {
          "output_type": "stream",
          "text": [
            "The mean of the given continous data is : 48.333333333333336\n"
          ],
          "name": "stdout"
        }
      ]
    },
    {
      "cell_type": "markdown",
      "metadata": {
        "id": "i4kMI563dlrY"
      },
      "source": [
        "\n",
        "\n",
        "\n",
        "\n",
        "\n",
        "\n",
        "---\n",
        "\n",
        "\n",
        "\n"
      ]
    }
  ]
}