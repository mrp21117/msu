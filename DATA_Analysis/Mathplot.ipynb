{
  "nbformat": 4,
  "nbformat_minor": 0,
  "metadata": {
    "colab": {
      "provenance": []
    },
    "kernelspec": {
      "name": "python3",
      "display_name": "Python 3"
    },
    "language_info": {
      "name": "python"
    }
  },
  "cells": [
    {
      "cell_type": "markdown",
      "metadata": {
        "id": "B7n0kLtg3TEc"
      },
      "source": [
        "**Name:  Parkar Mihir Rajesh**\n",
        "\n",
        "**PRN :** 2020033800102674\n",
        "\n",
        "**Seat No :** 106016\n",
        "\n",
        "**Email :** mihirparkar2002@gmail.com\n",
        "\n",
        "**SS BE – I (Electronics)**\n",
        "\n",
        "**Subject :** Programming and Simulation\n",
        "\n",
        "# **Assignment 10:**\n",
        "\n",
        "\n",
        "\n",
        "\n",
        "\n",
        "\n",
        "\n",
        "---"
      ]
    },
    {
      "cell_type": "markdown",
      "metadata": {
        "id": "85sRnoi6Rkv_"
      },
      "source": [
        "  **1. WRITE A PYTHON CODE TO SIMULATE FIRST ORDER LINEAR ORDINARY DIFFERENTIAL EQUATION y' = 2y + sin x WITH INITIAL CONDITION y(0) = 1 ALSO  SHOW SIMULATION VIA PLOT .**"
      ]
    },
    {
      "cell_type": "code",
      "metadata": {
        "colab": {
          "base_uri": "https://localhost:8080/",
          "height": 223
        },
        "id": "B2ZQQB96_yvz",
        "outputId": "7933953f-b21e-4484-f6f9-f3f72dadfc03"
      },
      "source": [
        "import numpy as np\n",
        "import matplotlib.pyplot as plt\n",
        "from scipy.integrate import odeint\n",
        "def derivative(y,x): return 2*y + np.sin(x)\n",
        "def sol(x,y0): return odeint(derivative,y0,x)\n",
        "x = np.linspace(0,30,30)\n",
        "y = sol (x,1)\n",
        "plt.plot(x,y,'y-')\n",
        "print(\"show the graph = \")\n",
        "plt.show()"
      ],
      "execution_count": null,
      "outputs": [
        {
          "output_type": "stream",
          "text": [
            "show the graph = \n"
          ],
          "name": "stdout"
        },
        {
          "output_type": "display_data",
          "data": {
            "image/png": "[encoded data removed]",
            "text/plain": [
              "<Figure size 432x288 with 1 Axes>"
            ]
          },
          "metadata": {
            "tags": [],
            "needs_background": "light"
          }
        }
      ]
    },
    {
      "cell_type": "markdown",
      "metadata": {
        "id": "tSCzS_klBu8L"
      },
      "source": [
        "\n",
        "\n",
        "\n",
        "\n",
        "---\n",
        "\n",
        "\n",
        "\n",
        "\n",
        "2. ***WRITE A PYTHON CODE TO SIMULATE FIRST ORDER NONLINEAR ORDINARY DIFFERENTIAL EQUATION y'=2xsiny WITH INITIAL CONDITION y(0) = 1 ALSO SHOW SIMULATION VIA PLOT.***"
      ]
    },
    {
      "cell_type": "code",
      "metadata": {
        "colab": {
          "base_uri": "https://localhost:8080/",
          "height": 295
        },
        "id": "kvUGiTbACUnQ",
        "outputId": "90dac415-4be2-4ef4-8b0e-5179894d56f0"
      },
      "source": [
        "import numpy as np\n",
        "import matplotlib.pyplot as plt\n",
        "from scipy.integrate import odeint\n",
        "def derivative (y,x): return 2*x*np.sin(y)\n",
        "def sol(x,y0): return odeint(derivative,y0,x)\n",
        "x=np.linspace(0,20,100)\n",
        "y=sol(x,1)\n",
        "plt.xlabel(\"X-Axis\")\n",
        "plt.ylabel(\"Y-Axis\")\n",
        "plt.title(\"Graph of Y' = 2x*siny\")\n",
        "plt.plot(x,y,'r-')\n",
        "plt.show()"
      ],
      "execution_count": null,
      "outputs": [
        {
          "output_type": "display_data",
          "data": {
            "image/png": "[encoded data removed]",
            "text/plain": [
              "<Figure size 432x288 with 1 Axes>"
            ]
          },
          "metadata": {
            "tags": [],
            "needs_background": "light"
          }
        }
      ]
    },
    {
      "cell_type": "markdown",
      "metadata": {
        "id": "e1fXmDB8Cg7Q"
      },
      "source": [
        "\n",
        "\n",
        "\n",
        "\n",
        "---\n",
        "\n",
        "\n",
        "\n",
        "\n",
        "\n",
        "\n",
        "***SYNTEX***\n",
        "\n",
        "***import*** - used to import the file/function\n",
        "\n",
        "***matplotlib*** ***.pyplot*** - collection of mathematical function\n",
        "\n",
        "***scipy.integrate odeint*** - used to solve a differential equation\n",
        "\n",
        "***np.linspace ***- it is used to create an evenly spaced sequence in a specified interval\n",
        "\n",
        "***plot*** - plot the graph\n",
        "\n",
        "***show*** - shows graph\n",
        "\n",
        "\n",
        "---"
      ]
    }
  ]
}
