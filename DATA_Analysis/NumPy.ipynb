{
  "nbformat": 4,
  "nbformat_minor": 0,
  "metadata": {
    "colab": {
      "provenance": []
    },
    "kernelspec": {
      "name": "python3",
      "display_name": "Python 3"
    },
    "language_info": {
      "name": "python"
    }
  },
  "cells": [
    {
      "cell_type": "markdown",
      "metadata": {
        "id": "aExprLChQZC6"
      },
      "source": [
        "**Name:  Parkar Mihir Rajesh**\n",
        "\n",
        "**PRN :** 2020033800102674\n",
        "\n",
        "**Seat No :** 106016\n",
        "\n",
        "**Email :** mihirparkar2002@gmail.com\n",
        "\n",
        "**Mobile No:** 8153841347\n",
        "\n",
        "**SS BE – I (Electronics)**\n",
        "\n",
        "**Subject :** Programming and Simulation\n",
        "\n",
        "# **Assignment 9:**\n",
        "\n",
        "\n",
        "\n",
        "\n",
        "---\n",
        "\n",
        "\n",
        "\n"
      ]
    },
    {
      "cell_type": "markdown",
      "metadata": {
        "id": "x6vM79_SQefQ"
      },
      "source": [
        "\n",
        "\n",
        "\n",
        "**1. Find standard deviation and variance of inputted data using\n",
        "inbuilt command.**\n",
        "\n",
        "\n"
      ]
    },
    {
      "cell_type": "code",
      "metadata": {
        "colab": {
          "base_uri": "https://localhost:8080/"
        },
        "id": "S7va4p1SOuGv",
        "outputId": "01707723-87e9-40da-8a55-8f949685b006"
      },
      "source": [
        "import numpy as np\n",
        "X = [1,3,5,7,2,8]\n",
        "print(\"Given Data is : \", X)\n",
        "STDV = np.std(X)\n",
        "print(\"The standard Deviation of Given Data is:\",STDV)\n",
        "V = np.var(X)\n",
        "print(\"The variance of Given Data is:\", V)"
      ],
      "execution_count": null,
      "outputs": [
        {
          "output_type": "stream",
          "text": [
            "Given Data is :  [1, 3, 5, 7, 2, 8]\n",
            "The standard Deviation of Given Data is: 2.5603819159562025\n",
            "The variance of Given Data is: 6.5555555555555545\n"
          ],
          "name": "stdout"
        }
      ]
    },
    {
      "cell_type": "markdown",
      "metadata": {
        "id": "pjPILN0QR-_X"
      },
      "source": [
        "\n",
        "\n",
        "\n",
        "\n",
        "\n",
        "\n",
        "\n",
        "\n",
        "---\n",
        "\n",
        "\n",
        "\n",
        "\n",
        "\n",
        "\n",
        "**2. Write a Python code to find the range of inputted data. (max.\n",
        "value – min. value)**\n",
        "\n",
        "\n",
        "\n"
      ]
    },
    {
      "cell_type": "code",
      "metadata": {
        "id": "R_wA_9c3SIEk",
        "colab": {
          "base_uri": "https://localhost:8080/"
        },
        "outputId": "c89416c0-ea33-4c7a-d3d1-ccf971c635d8"
      },
      "source": [
        "import statistics as st\n",
        "\n",
        "X = [1,3,11,7,6,8,10,17,27,24,38,21]\n",
        "\n",
        "print(\"The Given Data:\", X)\n",
        "maxX = max(X)\n",
        "minX = min(X)\n",
        "range = maxX - minX\n",
        "\n",
        "print(\"The range of the Given Data is:\", range)"
      ],
      "execution_count": null,
      "outputs": [
        {
          "output_type": "stream",
          "text": [
            "The Given Data: [1, 3, 11, 7, 6, 8, 10, 17, 27, 24, 38, 21]\n",
            "The range of the Given Data is: 37\n"
          ],
          "name": "stdout"
        }
      ]
    },
    {
      "cell_type": "markdown",
      "metadata": {
        "id": "X0MPRUfNTtE-"
      },
      "source": [
        "\n",
        "\n",
        "\n",
        "\n",
        "\n",
        "\n",
        "\n",
        "\n",
        "\n",
        "\n",
        "\n",
        "\n",
        "\n",
        "\n",
        "---\n",
        "\n",
        "\n",
        "\n",
        "\n",
        "\n",
        "\n",
        "\n",
        "\n",
        "\n",
        "\n",
        "\n",
        "**3. Write a Python code to find the standard deviation and\n",
        "variance of inputted data. (Discrete series)**\n",
        "\n",
        "\n",
        "\n"
      ]
    },
    {
      "cell_type": "code",
      "metadata": {
        "colab": {
          "base_uri": "https://localhost:8080/"
        },
        "id": "0_p4FGpKT4mX",
        "outputId": "14ae2694-7016-4863-881d-2ccc76f5186a"
      },
      "source": [
        "import statistics as st\n",
        "import numpy as np\n",
        "\n",
        "X =np.array([3,2,1,21,12])\n",
        "F =np.array([1,2,3,4,5,])\n",
        "Xbar = st.mean(X)\n",
        "print( \"Mean of the Given Data : \" ,Xbar)\n",
        "Y = (X-Xbar)\n",
        "print(Y)\n",
        "Y2 = Y*Y*F\n",
        "print(Y2)\n",
        "sumY = sum(Y2)\n",
        "print(sumY)\n",
        "sumF = sum(F)\n",
        "print(sumF)\n",
        "SD = np.sqrt(sumY/sumF)\n",
        "print(\"Standard Deviation :\",SD)\n",
        "Var = SD*SD\n",
        "print(\"The Variance Of the Data:\",Var)"
      ],
      "execution_count": null,
      "outputs": [
        {
          "output_type": "stream",
          "text": [
            "Mean of the Given Data :  7\n",
            "[-4 -5 -6 14  5]\n",
            "[ 16  50 108 784 125]\n",
            "1083\n",
            "15\n",
            "Standard Deviation : 8.497058314499201\n",
            "The Variance Of the Data: 72.2\n"
          ],
          "name": "stdout"
        }
      ]
    },
    {
      "cell_type": "markdown",
      "metadata": {
        "id": "BrANz6vcU5YN"
      },
      "source": [
        "\n",
        "\n",
        "\n",
        "\n",
        "\n",
        "\n",
        "\n",
        "\n",
        "\n",
        "\n",
        "---\n",
        "\n",
        "\n",
        "\n",
        "\n",
        "\n",
        "\n",
        "\n",
        "\n",
        "\n",
        "\n",
        "**4. Write a Python code to find the standard deviation and\n",
        "variance of inputted data. (Continuous series)**\n",
        "\n",
        "\n",
        "\n"
      ]
    },
    {
      "cell_type": "code",
      "metadata": {
        "id": "VJGjj4OcVH7a",
        "colab": {
          "base_uri": "https://localhost:8080/"
        },
        "outputId": "d3ad0893-f693-4852-bf5c-3a14c0274ab2"
      },
      "source": [
        "import numpy as np\n",
        "import statistics as st\n",
        "\n",
        "UL = np.array([10,20,30,40,50,60])\n",
        "LL = np.array([20,30,40,50,60,70])\n",
        "f = np.array([4,7,16,20,15,8])\n",
        "ML = UL+LL/2\n",
        "print(ML)\n",
        "MLbar = st.mean(ML)\n",
        "print(\"Mean of the Data : \",MLbar)\n",
        "Y = (MLbar)\n",
        "Y2 = Y*Y*f\n",
        "print(Y2)\n",
        "\n",
        "\n",
        "sumY = sum(Y2)\n",
        "print(sumY)\n",
        "sumf = sum(f)\n",
        "print(\"Total Frequency : \",sumf)\n",
        "SD = np.sqrt(sumY/sumf)\n",
        "print(\"The standard Deviation Of the Data : \", SD)\n",
        "VAR = SD * SD\n",
        "print(\"The Variance Of the Data : \", VAR)"
      ],
      "execution_count": null,
      "outputs": [
        {
          "output_type": "stream",
          "text": [
            "[20. 35. 50. 65. 80. 95.]\n",
            "Mean of the Data :  57.5\n",
            "[13225.   23143.75 52900.   66125.   49593.75 26450.  ]\n",
            "231437.5\n",
            "Total Frequency :  70\n",
            "The standard Deviation Of the Data :  57.5\n",
            "The Variance Of the Data :  3306.25\n"
          ],
          "name": "stdout"
        }
      ]
    },
    {
      "cell_type": "markdown",
      "metadata": {
        "id": "TaFvt6km2XYI"
      },
      "source": [
        "\n",
        "\n",
        "\n",
        "\n",
        "\n",
        "\n",
        "\n",
        "\n",
        "\n",
        "---\n",
        "\n",
        "\n",
        "\n",
        "\n",
        "\n"
      ]
    }
  ]
}
